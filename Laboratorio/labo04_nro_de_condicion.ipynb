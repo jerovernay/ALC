# **Laboratorio N°5: Número de Condición**


import numpy as np
import matplotlib.pyplot as plt

## Ejercicio 1

En este ejercicio vamos a probar o refutar algunas propiedades sobre el numero de condicion.
En cada item tendremos un propiedad que puede ser verdadera o falsa.
 - En caso de ser verdadera: dar su demostracion.
 - En caso de ser falsa: utilizar numpy para dar un contraejemplo.

Utilizar el comando `np.linalg.cond`.





**(a)** $Cond_2(A)$ + $Cond_2(B)$ = $Cond_2(A+B)$

1.   Elemento de lista
2.   Elemento de lista



import numpy as np

A = np.array([[1,2], [3,4]])
B = np.array([[5,0], [0,6]])

#resta un decimal al final, perturbacion baja

res = np.linalg.cond(A) + np.linalg.cond(B)
print(np.linalg.cond(A))
print(np.linalg.cond(B))
print(res)

**(b)** $Cond_1(A)$ - $Cond_1(B)$ = $Cond_2(A-B)$

import numpy as np

A = np.array([[1,2], [3,4]])
B = np.array([[5,0], [0,6]])

#suma un decimal al final, perturbacion baja

res = np.linalg.cond(A) - np.linalg.cond(B)
print(np.linalg.cond(A))
print(np.linalg.cond(B))
print(res)
res2 = np.linalg.cond(A-B)
print(res == res2)

**(c)** $Cond_2(A)$ * $Cond_2(B)$ = $Cond_2(A.B)$

import numpy as np

A = np.array([[1,2], [3,4]])
B = np.array([[5,0], [0,6]])

#suma un decimal al final, perturbacion baja

res = np.linalg.cond(A) * np.linalg.cond(B)
res2 = np.linalg.cond(A*B)
print(res == res2)

## Ejercicio 2

El objetivo de este ejercicio es estudiar el número de condición de
algunas matrices a medida que su tamaño aumenta.



**(a)** Programar funciones que, dado $n \in \mathbb{N}$, devuelvan las siguientes matrices de $\mathbb{R}^{n\times n}$. La función que define $B_n$ ya viene dada.


\begin{equation*}
A_n=
\begin{pmatrix}
\frac{1}{n} & 0 & 0 & \cdots  & n^2\\
0 & \frac{1}{n} & 0 & \cdots & 0 \\
0 & 0 & \frac{1}{n} & \cdots & 0\\
\vdots & \vdots & \vdots  & \ddots & \vdots\\
1 & 0 & 0 & \cdots &  \frac{1}{n}\\
\end{pmatrix}
\qquad
B_n=
\begin{pmatrix}
4 & 1 & 0 & \cdots & 0 & 0\\
1 & 4 & 1 & \cdots & 0 & 0 \\
0 & 1 & 4 & \ddots &  & \vdots\\
\vdots & \vdots & \ddots & \ddots & \ddots & \vdots \\
0 & 0 &  & \ddots & 4 & 1\\
0 & 0 & \cdots & \cdots & 1 & 4 \\
\end{pmatrix}
\qquad
H_n=
\begin{pmatrix}
1 & \frac{1}{2} & \frac{1}{3} & \cdots  & \frac{1}{n}\\
\frac{1}{2} & \frac{1}{3} & \frac{1}{4} & \cdots & \frac{1}{n+1} \\
\frac{1}{3} & \frac{1}{4} & \frac{1}{5} & \cdots & \frac{1}{n+2}\\
\vdots & \vdots & \vdots  & \ddots & \vdots\\
\frac{1}{n} & \frac{1}{n+1} & \frac{1}{n+2} & \cdots &  \frac{1}{2n-1}\\
\end{pmatrix}
\end{equation*}



**Sugerencia:** Utilizar la función `np.diag` que recibe un array de números y genera una matriz diagonal con elementos dados por el array.




import matplotlib.pyplot as plt


def matriz_B(n):
  B = np.eye(n, k=-1) + 4*np.eye(n, k=0) + np.eye(n, k=1) 
  return B

def matriz_A(n):
  A = 1/n *np.eye(n,k= 0)
  A[0,n - 1] = n**2
  A[n - 1,0] = 1
  return A

def matriz_H(n):
  H = np.ones((n,n))
  for i in range(n):
    for j in range(n):
      H[i,j] = 1/(i+j+1)
  return H



print(matriz_H(4))
print(matriz_A(6))
print(matriz_B(4))

**(b)** Graficar para 100 vectores **unitarios** (en norma 2), $v\in\mathbb{R^2}$, $\; A_2v,\ B_2v,\ H_2v$

import matplotlib.pyplot as plt

B = matriz_B(2)
V = np.random.rand(2, 100) - 0.5
V = np.linalg.norm(V, 2, axis = 0)


plt.scatter(B[0], B[1], label = "B")
plt.scatter(V[0], V[1], label = "V")
#plt.scatter(BV[0], BV[1], label = "Bv")
plt.legend()
print(V)
print(B)


**(c)** Programar una función que, dada una matriz $M_n$ y un número natural $N$, guarde en un vector el valor de $Cond_2(M_n)$ para $1\leq n \leq N$.

def vector_condicion(M, N):
  #COMPLETAR
  #...
  return()

**(d)** Realizar gráficos del número de condición en norma 2 de las matrices definidas arriba para $N=10$.


x= #COMPLETAR
y= #COMPLETAR

plt.plot(x, y)
plt.show()

**Sugerencia:** Si es necesario, utilizar una escala logarítmica en el eje $y$.

**(e)** Repetir el ítem (d) para la matriz de Hilbert con $N=50$. ¿Cómo se explica el comportamiento observado?

#COMPLETAR

## Ejercicio 3 (Ej 20 - Práctica 2)

Sea
$A=\left(
\begin{array}{ccc}
3&0 & 0\\
0& \frac 54 & \frac 34\\
0& \frac 34 & \frac 54\\
\end{array}
\right).$



A = np.array([[3.0, 0, 0], [0, 5/4, 3/4], [0, 3/4, 5/4]])

(a) Calcular $Cond_\infty(A)$.


#COMPLETAR

(b) ¿Cuán chico debe ser el error relativo en los datos, $\frac{\|b-\tilde{b}\|}{\|b\|}$, si se desea que el error relativo en la aproximación de la solución, $\frac{\|x-\tilde{x}\|}{\|x\|}, $ sea menor que $10^{-4}$ (en $\|\cdot\|_{\infty}$)?



#COMPLETAR

(c) Realizar experimentos numéricos para verificar las estimaciones del ítem anterior. Considerar $b=(3,2,2)^t$, que se corresponde con la solución exacta $x=(1,1,1)^t$. Generar vectores de error aleatorios, normalizarlos para que su norma sea tan chica como la estimada en el item anterior y perturbar $b$ obteniendo $\tilde{b}$. Finalmente, resolver $A\tilde{x}=\tilde{b}$ y verificar que $\|\tilde{x}-x\|<10^{-4}$.

#COMPLETAR
